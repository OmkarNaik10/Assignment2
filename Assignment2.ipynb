{
 "cells": [
  {
   "cell_type": "markdown",
   "metadata": {},
   "source": [
    "# Task 1: "
   ]
  },
  {
   "cell_type": "markdown",
   "metadata": {},
   "source": [
    "1.1  \n",
    " \n",
    "Write a Python Program to implement your own myreduce() function which works exactly like \n",
    "Python's built-in function reduce() \n",
    "\n"
   ]
  },
  {
   "cell_type": "code",
   "execution_count": 58,
   "metadata": {},
   "outputs": [],
   "source": [
    "def myreduce(afunc,aseq):\n",
    "    result=aseq[0]\n",
    "    for i in aseq[1:]:\n",
    "        result=afunc(result,i)\n",
    "    return result\n",
    "    "
   ]
  },
  {
   "cell_type": "code",
   "execution_count": 59,
   "metadata": {},
   "outputs": [],
   "source": [
    "def add(x,y):\n",
    "    return x+y\n",
    "def mul(x,y):\n",
    "    return x*y\n",
    "def div(x,y):\n",
    "    return x/y"
   ]
  },
  {
   "cell_type": "code",
   "execution_count": 60,
   "metadata": {},
   "outputs": [
    {
     "name": "stdout",
     "output_type": "stream",
     "text": [
      "addition with created reduce function:  30\n",
      "multiplicatio with created reduce function:  6720\n",
      "division with created reduce function:  0.0023809523809523807\n"
     ]
    }
   ],
   "source": [
    "print(\"addition with created reduce function: \",myreduce(add,[4,5,6,7,8]))\n",
    "print(\"multiplicatio with created reduce function: \",myreduce(mul,[4,5,6,7,8]))\n",
    "print(\"division with created reduce function: \",myreduce(div,[4,5,6,7,8]))"
   ]
  },
  {
   "cell_type": "code",
   "execution_count": 61,
   "metadata": {},
   "outputs": [
    {
     "name": "stdout",
     "output_type": "stream",
     "text": [
      "division with built-in reduce function:  30\n"
     ]
    }
   ],
   "source": [
    "#to check the output of reduce function built-in validation and verification\n",
    "from functools import reduce\n",
    "l=[4,5,6,7,8]\n",
    "reduce(lambda x,y:x+y,l)\n",
    "print(\"division with built-in reduce function: \",reduce(lambda x,y:x+y,l))"
   ]
  },
  {
   "cell_type": "code",
   "execution_count": 62,
   "metadata": {},
   "outputs": [
    {
     "name": "stdout",
     "output_type": "stream",
     "text": [
      "division with built-in reduce function:  6720\n"
     ]
    }
   ],
   "source": [
    "l=[4,5,6,7,8]\n",
    "reduce(lambda x,y:x*y,l)\n",
    "print(\"division with built-in reduce function: \",reduce(lambda x,y:x*y,l))"
   ]
  },
  {
   "cell_type": "code",
   "execution_count": 63,
   "metadata": {},
   "outputs": [
    {
     "name": "stdout",
     "output_type": "stream",
     "text": [
      "division with built-in reduce function:  0.0023809523809523807\n"
     ]
    }
   ],
   "source": [
    "l=[4,5,6,7,8]\n",
    "reduce(lambda x,y:x/y,l)\n",
    "print(\"division with built-in reduce function: \",reduce(lambda x,y:x/y,l))"
   ]
  },
  {
   "cell_type": "code",
   "execution_count": null,
   "metadata": {},
   "outputs": [],
   "source": []
  },
  {
   "cell_type": "markdown",
   "metadata": {},
   "source": [
    "1.2  \n",
    " \n",
    "Write a Python program to implement your own myfilter() function which works exactly like \n",
    "Python's built-in function filter() \n",
    "\n"
   ]
  },
  {
   "cell_type": "code",
   "execution_count": 64,
   "metadata": {},
   "outputs": [],
   "source": [
    "def myfilter(afunc,aseq):\n",
    "    result=[]\n",
    "    for i in aseq:\n",
    "        if(afunc(i)):\n",
    "            result.append(i)\n",
    "        #result.append(afunc(i))\n",
    "    return result"
   ]
  },
  {
   "cell_type": "code",
   "execution_count": 65,
   "metadata": {},
   "outputs": [],
   "source": [
    "def iseven(x):\n",
    "    if(x%2==0):\n",
    "        return True\n",
    "    else:\n",
    "        return False\n",
    "def isodd(x):\n",
    "    if(x%2!=0):\n",
    "        return True\n",
    "    else:\n",
    "        return False"
   ]
  },
  {
   "cell_type": "code",
   "execution_count": 66,
   "metadata": {},
   "outputs": [
    {
     "name": "stdout",
     "output_type": "stream",
     "text": [
      "even_no_check with created filter function:  [2, 4, 6, 8]\n"
     ]
    }
   ],
   "source": [
    "print(\"even_no_check with created filter function: \",myfilter(iseven,[1,2,3,4,5,6,7,8]))"
   ]
  },
  {
   "cell_type": "code",
   "execution_count": 67,
   "metadata": {},
   "outputs": [
    {
     "name": "stdout",
     "output_type": "stream",
     "text": [
      "odd_no_check with created filter function:  [1, 3, 5, 7]\n"
     ]
    }
   ],
   "source": [
    "print(\"odd_no_check with created filter function: \",myfilter(isodd,[1,2,3,4,5,6,7,8]))"
   ]
  },
  {
   "cell_type": "code",
   "execution_count": 68,
   "metadata": {},
   "outputs": [
    {
     "name": "stdout",
     "output_type": "stream",
     "text": [
      "even_no_check with built-in filter function:  [2, 4, 6, 8]\n"
     ]
    }
   ],
   "source": [
    "##to check the output of filter function built-in validation and verification\n",
    "print(\"even_no_check with built-in filter function: \",list(filter(lambda x:x%2==0,[1,2,3,4,5,6,7,8])))"
   ]
  },
  {
   "cell_type": "code",
   "execution_count": 69,
   "metadata": {},
   "outputs": [
    {
     "name": "stdout",
     "output_type": "stream",
     "text": [
      "odd_no_check with built-in filter function:  [1, 3, 5, 7]\n"
     ]
    }
   ],
   "source": [
    "print(\"odd_no_check with built-in filter function: \",list(filter(lambda x:x%2!=0,[1,2,3,4,5,6,7,8])))"
   ]
  },
  {
   "cell_type": "code",
   "execution_count": null,
   "metadata": {},
   "outputs": [],
   "source": []
  },
  {
   "cell_type": "markdown",
   "metadata": {},
   "source": [
    "2.  \n",
    " \n",
    "Implement List comprehensions to produce the following lists. \n",
    " \n",
    "Write List comprehensions to produce the following Lists \n",
    " \n",
    "['A', 'C', 'A', 'D', 'G', 'I', ’L’, ‘ D’] \n",
    " \n",
    "['x', 'xx', 'xxx', 'xxxx', 'y', 'yy', 'yyy', 'yyyy', 'z', 'zz', 'zzz', 'zzzz'] \n",
    " \n",
    "['x', 'y', 'z', 'xx', 'yy', 'zz', 'xx', 'yy', 'zz', 'xxxx', 'yyyy', 'zzzz'] \n",
    " \n",
    "[[2], [3], [4], [3], [4], [5], [4], [5], [6]] \n",
    " \n",
    "[[2, 3, 4, 5], [3, 4, 5, 6], [4, 5, 6, 7], [5, 6, 7, 8]] \n",
    " \n",
    "[(1, 1), (2, 1), (3, 1), (1, 2), (2, 2), (3, 2), (1, 3), (2, 3), (3, 3)] \n"
   ]
  },
  {
   "cell_type": "code",
   "execution_count": 70,
   "metadata": {},
   "outputs": [
    {
     "name": "stdout",
     "output_type": "stream",
     "text": [
      "List comprehension to get m1: ['A', 'C', 'A', 'D', 'G', 'I', 'L', 'D']\n",
      "List comprehension to get m2: ['A', 'C', 'A', 'D', 'G', 'I', 'L', 'D']\n"
     ]
    }
   ],
   "source": [
    "#['A', 'C', 'A', 'D', 'G', 'I', ’L’, ‘ D’] output with listcomprehension\n",
    "str='ACADGILD'\n",
    "print('List comprehension to get m1:',[row for row in str])\n",
    "#or\n",
    "a=[['A','B'], ['C','a'], ['A','1'], ['D',1,], ['G',56], ['I','y'],['L',9],['D',1]]\n",
    "print('List comprehension to get m2:',[i[0] for i in a])\n"
   ]
  },
  {
   "cell_type": "code",
   "execution_count": 71,
   "metadata": {},
   "outputs": [
    {
     "data": {
      "text/plain": [
       "['A', 'C', 'A', 'D', 'G', 'I', 'L', 'D']"
      ]
     },
     "execution_count": 71,
     "metadata": {},
     "output_type": "execute_result"
    }
   ],
   "source": [
    "#traditional method to check\n",
    "str='ACADGILD'\n",
    "a=[]\n",
    "for i in str:\n",
    "    a.append(i)\n",
    "a"
   ]
  },
  {
   "cell_type": "code",
   "execution_count": 72,
   "metadata": {},
   "outputs": [
    {
     "data": {
      "text/plain": [
       "['x', 'xx', 'xxx', 'xxxx', 'y', 'yy', 'yyy', 'yyyy', 'z', 'zz', 'zzz', 'zzzz']"
      ]
     },
     "execution_count": 72,
     "metadata": {},
     "output_type": "execute_result"
    }
   ],
   "source": [
    "#['x','xx','xxx','xxxx','y', 'yy','yyy','yyyy', 'z', 'zz', 'zzz','zzzz']output with listcomprehension\n",
    "#print('k'*10)\n",
    "a='xyz'\n",
    "l=list(a)\n",
    "[row*i for row in l for i in range(1,5)]"
   ]
  },
  {
   "cell_type": "code",
   "execution_count": 73,
   "metadata": {},
   "outputs": [
    {
     "data": {
      "text/plain": [
       "['x', 'xx', 'xxx', 'xxxx', 'y', 'yy', 'yyy', 'yyyy', 'z', 'zz', 'zzz', 'zzzz']"
      ]
     },
     "execution_count": 73,
     "metadata": {},
     "output_type": "execute_result"
    }
   ],
   "source": [
    "#traditional method to check\n",
    "a='xyz'\n",
    "l=list(a)\n",
    "k=[]\n",
    "for n in l:\n",
    "    for i in range(1,5):\n",
    "        k.append(n*i)\n",
    "k\n"
   ]
  },
  {
   "cell_type": "code",
   "execution_count": 74,
   "metadata": {},
   "outputs": [
    {
     "data": {
      "text/plain": [
       "['x', 'y', 'z', 'xx', 'yy', 'zz', 'xxx', 'yyy', 'zzz', 'xxxx', 'yyyy', 'zzzz']"
      ]
     },
     "execution_count": 74,
     "metadata": {},
     "output_type": "execute_result"
    }
   ],
   "source": [
    "#['x', 'y', 'z', 'xx', 'yy', 'zz', 'xx', 'yy', 'zz','xxxx','yyyy','zzzz']output using listcomprehsion\n",
    "a='xyz'\n",
    "l=list(a)\n",
    "[row*i for i in range(1,5) for row in l]\n"
   ]
  },
  {
   "cell_type": "code",
   "execution_count": 75,
   "metadata": {},
   "outputs": [
    {
     "data": {
      "text/plain": [
       "['x', 'y', 'z', 'xx', 'yy', 'zz', 'xxx', 'yyy', 'zzz', 'xxxx', 'yyyy', 'zzzz']"
      ]
     },
     "execution_count": 75,
     "metadata": {},
     "output_type": "execute_result"
    }
   ],
   "source": [
    "#traditional method to check nested for loop\n",
    "a='xyz'\n",
    "l=list(a)\n",
    "k=[]\n",
    "for i in range(1,5):\n",
    "    for n in l:\n",
    "        k.append(n*i)\n",
    "k"
   ]
  },
  {
   "cell_type": "code",
   "execution_count": 76,
   "metadata": {},
   "outputs": [
    {
     "data": {
      "text/plain": [
       "[[2], [3], [4], [3], [4], [5], [4], [5], [6]]"
      ]
     },
     "execution_count": 76,
     "metadata": {},
     "output_type": "execute_result"
    }
   ],
   "source": [
    "#[[2], [3], [4], [3], [4], [5], [4], [5], [6]]output using list comprehension\n",
    "a=[2,3,4]\n",
    "[[i+n] for i in a for n in range(3)]\n"
   ]
  },
  {
   "cell_type": "code",
   "execution_count": 77,
   "metadata": {},
   "outputs": [
    {
     "data": {
      "text/plain": [
       "[[2], [3], [4], [3], [4], [5], [4], [5], [6]]"
      ]
     },
     "execution_count": 77,
     "metadata": {},
     "output_type": "execute_result"
    }
   ],
   "source": [
    "#traditional method to check nested for loop\n",
    "a=[2,3,4]\n",
    "#l=[]\n",
    "k=[]\n",
    "for i in a:\n",
    "    for n in range(3):\n",
    "        #k.append(l.append(i+n))\n",
    "        k.append([i+n])\n",
    "k"
   ]
  },
  {
   "cell_type": "code",
   "execution_count": 78,
   "metadata": {},
   "outputs": [
    {
     "data": {
      "text/plain": [
       "[[2, 3, 4, 5], [3, 4, 5, 6], [4, 5, 6, 7], [5, 6, 7, 8]]"
      ]
     },
     "execution_count": 78,
     "metadata": {},
     "output_type": "execute_result"
    }
   ],
   "source": [
    "#[[2, 3, 4, 5], [3, 4, 5, 6], [4, 5, 6, 7], [5, 6, 7, 8]]output using list compehension\n",
    "a=[2,3,4,5]\n",
    "[[i+n for n in range(4)] for i in a]"
   ]
  },
  {
   "cell_type": "code",
   "execution_count": 79,
   "metadata": {},
   "outputs": [
    {
     "data": {
      "text/plain": [
       "[[2, 3, 4, 5], [3, 4, 5, 6], [4, 5, 6, 7], [5, 6, 7, 8]]"
      ]
     },
     "execution_count": 79,
     "metadata": {},
     "output_type": "execute_result"
    }
   ],
   "source": [
    "#traditional method to check nested for loop\n",
    "a=[2,3,4,5]\n",
    "l=[]\n",
    "for n in range(4):\n",
    "    l.append([])\n",
    "    for i in a:\n",
    "        l[n].append(i+n)\n",
    "l\n"
   ]
  },
  {
   "cell_type": "code",
   "execution_count": 80,
   "metadata": {},
   "outputs": [
    {
     "data": {
      "text/plain": [
       "[(1, 1), (1, 2), (1, 3), (2, 1), (2, 2), (2, 3), (3, 1), (3, 2), (3, 3)]"
      ]
     },
     "execution_count": 80,
     "metadata": {},
     "output_type": "execute_result"
    }
   ],
   "source": [
    "#[(1, 1), (2, 1), (3, 1), (1, 2), (2, 2), (3, 2), (1, 3),(2, 3),(3, 3)]output using list comprehension\n",
    "a=[1,2,3]\n",
    "[(i,j)for i in a for j in a]"
   ]
  },
  {
   "cell_type": "code",
   "execution_count": 81,
   "metadata": {},
   "outputs": [
    {
     "data": {
      "text/plain": [
       "[(1, 1), (1, 2), (1, 3), (2, 1), (2, 2), (2, 3), (3, 1), (3, 2), (3, 3)]"
      ]
     },
     "execution_count": 81,
     "metadata": {},
     "output_type": "execute_result"
    }
   ],
   "source": [
    "#traditional method to check for loop\n",
    "a=[1,2,3]\n",
    "l=[]\n",
    "for i in a:\n",
    "    #l.append([])\n",
    "    for j in a:\n",
    "        l.append((i,j))\n",
    "l"
   ]
  },
  {
   "cell_type": "code",
   "execution_count": null,
   "metadata": {},
   "outputs": [],
   "source": []
  },
  {
   "cell_type": "markdown",
   "metadata": {},
   "source": [
    "3.  \n",
    " \n",
    "Implement a function longestWord() that takes a list of words and returns the longest one. \n"
   ]
  },
  {
   "cell_type": "code",
   "execution_count": 82,
   "metadata": {},
   "outputs": [],
   "source": [
    "#1st method to give longest word\n",
    "def longestword(x):\n",
    "        x.sort(key=len,reverse=True)\n",
    "        return x[0],len(x[0])\n",
    "            \n",
    "        "
   ]
  },
  {
   "cell_type": "code",
   "execution_count": 83,
   "metadata": {},
   "outputs": [
    {
     "name": "stdout",
     "output_type": "stream",
     "text": [
      "the longest word in the list along with length is:  ('deeplearningtensorflow', 22)\n"
     ]
    }
   ],
   "source": [
    "a=['hello','hi','omkar','naik','machinelearning','aai','mummy','beautiful','deeplearningtensorflow']\n",
    "print(\"the longest word in the list along with length is: \",longestword(a))"
   ]
  },
  {
   "cell_type": "code",
   "execution_count": 86,
   "metadata": {},
   "outputs": [],
   "source": [
    "#method2 to find longest word in list is:\n",
    "def longestword1(x):\n",
    "    #longestword=\" \"\n",
    "    p=''\n",
    "    #print(max(x,key=len))\n",
    "    for i in x:\n",
    "        if(i==max(x,key=len)):\n",
    "            p=p+i\n",
    "            break\n",
    "    return p\n",
    "        \n",
    "        \n",
    "        \n",
    "        "
   ]
  },
  {
   "cell_type": "code",
   "execution_count": 87,
   "metadata": {},
   "outputs": [
    {
     "name": "stdout",
     "output_type": "stream",
     "text": [
      "the longest word in the list along with length is:  deeplearningtensorflow\n"
     ]
    }
   ],
   "source": [
    "a=['hello','hi','omkar','naik','machinelearning','aai','mummy','beautiful','deeplearningtensorflow']\n",
    "print(\"the longest word in the list along with length is: \",longestword1(a))"
   ]
  },
  {
   "cell_type": "code",
   "execution_count": null,
   "metadata": {},
   "outputs": [],
   "source": []
  },
  {
   "cell_type": "markdown",
   "metadata": {},
   "source": [
    "# Task 2: \n",
    " \n",
    " \n",
    "1.1  \n",
    " \n",
    "Write a Python Program(with class concepts) to find the area of the triangle using the below \n",
    "formula. \n",
    " \n",
    "area = (s*(s-a)*(s-b)*(s-c)) ** 0.5 \n",
    " \n",
    "Function to take the length of the sides of triangle from user should be defined in the parent \n",
    "class and function to calculate the area should be defined in subclass. \n",
    " \n"
   ]
  },
  {
   "cell_type": "code",
   "execution_count": 88,
   "metadata": {},
   "outputs": [],
   "source": [
    "class Triangle:\n",
    "    def __init__(self,a,b,c):\n",
    "        self.a=a\n",
    "        self.b=b\n",
    "        self.c=c\n",
    "        \n",
    "class Area(Triangle):\n",
    "    def __init__(self,*args):\n",
    "        super().__init__(*args)\n",
    "        \n",
    "    def showoutput(self):\n",
    "        s=(self.a+self.b+self.c)/2\n",
    "        print(\"semiperimeter :\",s)\n",
    "        cal_area=(s*(s-self.a)*(s-self.b)*(s-self.c))**0.5\n",
    "        print(\"area of triangle is : \",cal_area)\n",
    "    "
   ]
  },
  {
   "cell_type": "code",
   "execution_count": 89,
   "metadata": {},
   "outputs": [
    {
     "name": "stdout",
     "output_type": "stream",
     "text": [
      "enter the value of side1: 3\n",
      "enter the value of side1: 4\n",
      "enter the value of side1: 5\n",
      "semiperimeter : 6.0\n",
      "area of triangle is :  6.0\n"
     ]
    }
   ],
   "source": [
    "a=int(input(\"enter the value of side1: \"))\n",
    "b=int(input(\"enter the value of side1: \"))\n",
    "c=int(input(\"enter the value of side1: \"))\n",
    "k=Area(a,b,c)\n",
    "k.showoutput()"
   ]
  },
  {
   "cell_type": "code",
   "execution_count": null,
   "metadata": {},
   "outputs": [],
   "source": []
  },
  {
   "cell_type": "markdown",
   "metadata": {},
   "source": [
    "1.2 \n",
    " \n",
    "Write a function filter_long_words() that takes a list of words and an integer n and returns the list \n",
    "of words that are longer than n\n"
   ]
  },
  {
   "cell_type": "code",
   "execution_count": 90,
   "metadata": {},
   "outputs": [],
   "source": [
    "def filter_long_words(lst,n):\n",
    "    k=[]\n",
    "    for i in lst:\n",
    "        if(len(i)>n):\n",
    "            k.append(i)\n",
    "    return k\n",
    "    "
   ]
  },
  {
   "cell_type": "code",
   "execution_count": 91,
   "metadata": {},
   "outputs": [
    {
     "name": "stdout",
     "output_type": "stream",
     "text": [
      "enter a value: 10\n"
     ]
    },
    {
     "data": {
      "text/plain": [
       "['machinelearning', 'deeplearningtensorflow']"
      ]
     },
     "execution_count": 91,
     "metadata": {},
     "output_type": "execute_result"
    }
   ],
   "source": [
    "x=['hello','hi','omkar','naik','machinelearning','aai','mummy','beautiful','deeplearningtensorflow']\n",
    "y=int(input(\"enter a value: \"))\n",
    "filter_long_words(x,y)"
   ]
  },
  {
   "cell_type": "code",
   "execution_count": null,
   "metadata": {},
   "outputs": [],
   "source": []
  },
  {
   "cell_type": "markdown",
   "metadata": {},
   "source": [
    "2.1 \n",
    " \n",
    "Write a Python program using function concept that maps  list of words into a list of integers \n",
    "representing the lengths of the corresponding words​. \n",
    " \n",
    "Hint: ​If a list [ ab,cde,erty] is passed on to the python function output should come as [2,3,4] \n",
    " \n",
    "Here 2,3 and 4 are the lengths of the words in the list. \n"
   ]
  },
  {
   "cell_type": "code",
   "execution_count": 92,
   "metadata": {},
   "outputs": [],
   "source": [
    "#traditional approach\n",
    "def mapping(x):\n",
    "    k=[]\n",
    "    for i in x:\n",
    "        k.append(len(i))\n",
    "    return k"
   ]
  },
  {
   "cell_type": "code",
   "execution_count": 93,
   "metadata": {},
   "outputs": [
    {
     "name": "stdout",
     "output_type": "stream",
     "text": [
      "so the output of the:  [2, 3, 4]\n"
     ]
    }
   ],
   "source": [
    "l=['ab','cde','erty']\n",
    "print(\"so the output of the: \",mapping(l))"
   ]
  },
  {
   "cell_type": "code",
   "execution_count": 94,
   "metadata": {},
   "outputs": [
    {
     "data": {
      "text/plain": [
       "[2, 3, 4]"
      ]
     },
     "execution_count": 94,
     "metadata": {},
     "output_type": "execute_result"
    }
   ],
   "source": [
    "#method1 using lambda function with help of mapfunction\n",
    "list(map(lambda x:len(x),['ab','cde','erty']))"
   ]
  },
  {
   "cell_type": "code",
   "execution_count": 95,
   "metadata": {},
   "outputs": [],
   "source": [
    "#method2 using normal function with help of map function\n",
    "def map_list_words(x):\n",
    "    return len(x)"
   ]
  },
  {
   "cell_type": "code",
   "execution_count": 96,
   "metadata": {},
   "outputs": [
    {
     "data": {
      "text/plain": [
       "[2, 3, 4]"
      ]
     },
     "execution_count": 96,
     "metadata": {},
     "output_type": "execute_result"
    }
   ],
   "source": [
    "lst=['ab','cde','erty']\n",
    "list(map(map_list_words,lst))"
   ]
  },
  {
   "cell_type": "code",
   "execution_count": null,
   "metadata": {},
   "outputs": [],
   "source": []
  },
  {
   "cell_type": "markdown",
   "metadata": {},
   "source": [
    "2.2 \n",
    " \n",
    "Write a Python function which takes a character (i.e. a string of length 1) and returns True if it is \n",
    "a vowel, False otherwise. \n"
   ]
  },
  {
   "cell_type": "code",
   "execution_count": 101,
   "metadata": {},
   "outputs": [],
   "source": [
    "def checkvowel(x):\n",
    "    v=['a','e','i','o','u','A','E',\"I\",\"O\",'U']\n",
    "    if x in v:\n",
    "        return True\n",
    "    else:\n",
    "        return False"
   ]
  },
  {
   "cell_type": "code",
   "execution_count": 104,
   "metadata": {},
   "outputs": [
    {
     "name": "stdout",
     "output_type": "stream",
     "text": [
      "enter a single character to check vowel: O\n"
     ]
    },
    {
     "data": {
      "text/plain": [
       "True"
      ]
     },
     "execution_count": 104,
     "metadata": {},
     "output_type": "execute_result"
    }
   ],
   "source": [
    "x=input('enter a single character to check vowel: ')\n",
    "checkvowel(x)"
   ]
  },
  {
   "cell_type": "code",
   "execution_count": null,
   "metadata": {},
   "outputs": [],
   "source": []
  }
 ],
 "metadata": {
  "kernelspec": {
   "display_name": "Python 3",
   "language": "python",
   "name": "python3"
  },
  "language_info": {
   "codemirror_mode": {
    "name": "ipython",
    "version": 3
   },
   "file_extension": ".py",
   "mimetype": "text/x-python",
   "name": "python",
   "nbconvert_exporter": "python",
   "pygments_lexer": "ipython3",
   "version": "3.6.8"
  }
 },
 "nbformat": 4,
 "nbformat_minor": 2
}
